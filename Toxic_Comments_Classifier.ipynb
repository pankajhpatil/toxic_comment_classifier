{
  "nbformat": 4,
  "nbformat_minor": 0,
  "metadata": {
    "kernelspec": {
      "display_name": "Python 3",
      "language": "python",
      "name": "python3"
    },
    "language_info": {
      "codemirror_mode": {
        "name": "ipython",
        "version": 3
      },
      "file_extension": ".py",
      "mimetype": "text/x-python",
      "name": "python",
      "nbconvert_exporter": "python",
      "pygments_lexer": "ipython3",
      "version": "3.7.9"
    },
    "colab": {
      "name": "Toxic Comments Classifier.ipynb",
      "provenance": [],
      "collapsed_sections": []
    }
  },
  "cells": [
    {
      "cell_type": "markdown",
      "metadata": {
        "id": "bV_KFwrJNArH"
      },
      "source": [
        "## **Project**:  Toxic Content Classifier\n",
        "\n",
        "* Jignesh Madhani\n",
        "* Pankaj Patil\n",
        "* Manish Lokhande\n",
        "\n",
        "\n",
        "### **OBJECTIVES**: \n",
        "* Train a model on the Toxic Comment Classification Challenge.\n",
        "* Save the trained models and vectors and deploy in an application to achieve classification on live data.\n"
      ]
    },
    {
      "cell_type": "markdown",
      "metadata": {
        "id": "tePEMPATja_Z"
      },
      "source": [
        "## Import relevant libraries and load the data"
      ]
    },
    {
      "cell_type": "code",
      "metadata": {
        "colab": {
          "base_uri": "https://localhost:8080/"
        },
        "id": "dKeznmIZja_Z",
        "outputId": "62ee05ac-82de-475e-ef7a-fb96e0c7c900"
      },
      "source": [
        "!pip install nltk"
      ],
      "execution_count": 81,
      "outputs": [
        {
          "output_type": "stream",
          "text": [
            "Requirement already satisfied: nltk in /usr/local/lib/python3.6/dist-packages (3.2.5)\n",
            "Requirement already satisfied: six in /usr/local/lib/python3.6/dist-packages (from nltk) (1.15.0)\n"
          ],
          "name": "stdout"
        }
      ]
    },
    {
      "cell_type": "code",
      "metadata": {
        "id": "VUHQD5o0ja_a"
      },
      "source": [
        "# Import relevant packages\n",
        "import matplotlib.pyplot as plt\n",
        "import nltk\n",
        "import numpy as np\n",
        "import re \n",
        "import pandas as pd\n",
        "import string\n",
        "import seaborn as sns\n",
        "\n",
        "from nltk.corpus import stopwords  # To remove irrelevant words\n",
        "from nltk.stem.lancaster import LancasterStemmer  # To convert words to base form; aggressive\n",
        "\n",
        "# Import packages that help us to create document-term matrix\n",
        "from sklearn.feature_extraction.text import CountVectorizer, TfidfVectorizer\n"
      ],
      "execution_count": 82,
      "outputs": []
    },
    {
      "cell_type": "code",
      "metadata": {
        "colab": {
          "base_uri": "https://localhost:8080/"
        },
        "id": "Vucuv6Nzja_a",
        "outputId": "1475665f-37cc-437f-c8c0-1e8b0d7701a4"
      },
      "source": [
        "nltk.download('stopwords')"
      ],
      "execution_count": 83,
      "outputs": [
        {
          "output_type": "stream",
          "text": [
            "[nltk_data] Downloading package stopwords to /root/nltk_data...\n",
            "[nltk_data]   Package stopwords is already up-to-date!\n"
          ],
          "name": "stdout"
        },
        {
          "output_type": "execute_result",
          "data": {
            "text/plain": [
              "True"
            ]
          },
          "metadata": {
            "tags": []
          },
          "execution_count": 83
        }
      ]
    },
    {
      "cell_type": "code",
      "metadata": {
        "colab": {
          "base_uri": "https://localhost:8080/"
        },
        "id": "UXHkLLfmja_a",
        "outputId": "c4699924-7b76-4cbb-bd40-d2c79847d25c"
      },
      "source": [
        "# Download stopwords in english language\n",
        "set(stopwords.words('english'))"
      ],
      "execution_count": 84,
      "outputs": [
        {
          "output_type": "execute_result",
          "data": {
            "text/plain": [
              "{'a',\n",
              " 'about',\n",
              " 'above',\n",
              " 'after',\n",
              " 'again',\n",
              " 'against',\n",
              " 'ain',\n",
              " 'all',\n",
              " 'am',\n",
              " 'an',\n",
              " 'and',\n",
              " 'any',\n",
              " 'are',\n",
              " 'aren',\n",
              " \"aren't\",\n",
              " 'as',\n",
              " 'at',\n",
              " 'be',\n",
              " 'because',\n",
              " 'been',\n",
              " 'before',\n",
              " 'being',\n",
              " 'below',\n",
              " 'between',\n",
              " 'both',\n",
              " 'but',\n",
              " 'by',\n",
              " 'can',\n",
              " 'couldn',\n",
              " \"couldn't\",\n",
              " 'd',\n",
              " 'did',\n",
              " 'didn',\n",
              " \"didn't\",\n",
              " 'do',\n",
              " 'does',\n",
              " 'doesn',\n",
              " \"doesn't\",\n",
              " 'doing',\n",
              " 'don',\n",
              " \"don't\",\n",
              " 'down',\n",
              " 'during',\n",
              " 'each',\n",
              " 'few',\n",
              " 'for',\n",
              " 'from',\n",
              " 'further',\n",
              " 'had',\n",
              " 'hadn',\n",
              " \"hadn't\",\n",
              " 'has',\n",
              " 'hasn',\n",
              " \"hasn't\",\n",
              " 'have',\n",
              " 'haven',\n",
              " \"haven't\",\n",
              " 'having',\n",
              " 'he',\n",
              " 'her',\n",
              " 'here',\n",
              " 'hers',\n",
              " 'herself',\n",
              " 'him',\n",
              " 'himself',\n",
              " 'his',\n",
              " 'how',\n",
              " 'i',\n",
              " 'if',\n",
              " 'in',\n",
              " 'into',\n",
              " 'is',\n",
              " 'isn',\n",
              " \"isn't\",\n",
              " 'it',\n",
              " \"it's\",\n",
              " 'its',\n",
              " 'itself',\n",
              " 'just',\n",
              " 'll',\n",
              " 'm',\n",
              " 'ma',\n",
              " 'me',\n",
              " 'mightn',\n",
              " \"mightn't\",\n",
              " 'more',\n",
              " 'most',\n",
              " 'mustn',\n",
              " \"mustn't\",\n",
              " 'my',\n",
              " 'myself',\n",
              " 'needn',\n",
              " \"needn't\",\n",
              " 'no',\n",
              " 'nor',\n",
              " 'not',\n",
              " 'now',\n",
              " 'o',\n",
              " 'of',\n",
              " 'off',\n",
              " 'on',\n",
              " 'once',\n",
              " 'only',\n",
              " 'or',\n",
              " 'other',\n",
              " 'our',\n",
              " 'ours',\n",
              " 'ourselves',\n",
              " 'out',\n",
              " 'over',\n",
              " 'own',\n",
              " 're',\n",
              " 's',\n",
              " 'same',\n",
              " 'shan',\n",
              " \"shan't\",\n",
              " 'she',\n",
              " \"she's\",\n",
              " 'should',\n",
              " \"should've\",\n",
              " 'shouldn',\n",
              " \"shouldn't\",\n",
              " 'so',\n",
              " 'some',\n",
              " 'such',\n",
              " 't',\n",
              " 'than',\n",
              " 'that',\n",
              " \"that'll\",\n",
              " 'the',\n",
              " 'their',\n",
              " 'theirs',\n",
              " 'them',\n",
              " 'themselves',\n",
              " 'then',\n",
              " 'there',\n",
              " 'these',\n",
              " 'they',\n",
              " 'this',\n",
              " 'those',\n",
              " 'through',\n",
              " 'to',\n",
              " 'too',\n",
              " 'under',\n",
              " 'until',\n",
              " 'up',\n",
              " 've',\n",
              " 'very',\n",
              " 'was',\n",
              " 'wasn',\n",
              " \"wasn't\",\n",
              " 'we',\n",
              " 'were',\n",
              " 'weren',\n",
              " \"weren't\",\n",
              " 'what',\n",
              " 'when',\n",
              " 'where',\n",
              " 'which',\n",
              " 'while',\n",
              " 'who',\n",
              " 'whom',\n",
              " 'why',\n",
              " 'will',\n",
              " 'with',\n",
              " 'won',\n",
              " \"won't\",\n",
              " 'wouldn',\n",
              " \"wouldn't\",\n",
              " 'y',\n",
              " 'you',\n",
              " \"you'd\",\n",
              " \"you'll\",\n",
              " \"you're\",\n",
              " \"you've\",\n",
              " 'your',\n",
              " 'yours',\n",
              " 'yourself',\n",
              " 'yourselves'}"
            ]
          },
          "metadata": {
            "tags": []
          },
          "execution_count": 84
        }
      ]
    },
    {
      "cell_type": "markdown",
      "metadata": {
        "id": "Han3RLD5ja_b"
      },
      "source": [
        "### Load the training dataset - train.tsv"
      ]
    },
    {
      "cell_type": "code",
      "metadata": {
        "id": "vpFDxi6AkZ4C"
      },
      "source": [
        "from pydrive.auth import GoogleAuth\n",
        "from pydrive.drive import GoogleDrive\n",
        "from google.colab import auth\n",
        "from oauth2client.client import GoogleCredentials"
      ],
      "execution_count": 85,
      "outputs": []
    },
    {
      "cell_type": "code",
      "metadata": {
        "id": "3MZiAdMIkben"
      },
      "source": [
        "auth.authenticate_user()\n",
        "gauth = GoogleAuth()\n",
        "gauth.credentials = GoogleCredentials.get_application_default()\n",
        "drive = GoogleDrive(gauth)"
      ],
      "execution_count": 86,
      "outputs": []
    },
    {
      "cell_type": "code",
      "metadata": {
        "colab": {
          "base_uri": "https://localhost:8080/",
          "height": 202
        },
        "id": "thxeWUyXja_b",
        "outputId": "ae272d2d-ecb0-4479-bde6-9a3b5d887440"
      },
      "source": [
        "# https://drive.google.com/file/d/1tKTRmd6bve_FZ9yCdOn426fNkV5ZHskQ/view?usp=sharing\n",
        "downloaded = drive.CreateFile({'id': '1tKTRmd6bve_FZ9yCdOn426fNkV5ZHskQ'}) \n",
        "downloaded.GetContentFile('train.tsv')  \n",
        "data = pd.read_csv('train.tsv')\n",
        "\n",
        "data.head()"
      ],
      "execution_count": 87,
      "outputs": [
        {
          "output_type": "execute_result",
          "data": {
            "text/html": [
              "<div>\n",
              "<style scoped>\n",
              "    .dataframe tbody tr th:only-of-type {\n",
              "        vertical-align: middle;\n",
              "    }\n",
              "\n",
              "    .dataframe tbody tr th {\n",
              "        vertical-align: top;\n",
              "    }\n",
              "\n",
              "    .dataframe thead th {\n",
              "        text-align: right;\n",
              "    }\n",
              "</style>\n",
              "<table border=\"1\" class=\"dataframe\">\n",
              "  <thead>\n",
              "    <tr style=\"text-align: right;\">\n",
              "      <th></th>\n",
              "      <th>id</th>\n",
              "      <th>comment_text</th>\n",
              "      <th>toxic</th>\n",
              "      <th>severe_toxic</th>\n",
              "      <th>obscene</th>\n",
              "      <th>threat</th>\n",
              "      <th>insult</th>\n",
              "      <th>identity_hate</th>\n",
              "    </tr>\n",
              "  </thead>\n",
              "  <tbody>\n",
              "    <tr>\n",
              "      <th>0</th>\n",
              "      <td>0000997932d777bf</td>\n",
              "      <td>Explanation\\r\\nWhy the edits made under my use...</td>\n",
              "      <td>0</td>\n",
              "      <td>0</td>\n",
              "      <td>0</td>\n",
              "      <td>0</td>\n",
              "      <td>0</td>\n",
              "      <td>0</td>\n",
              "    </tr>\n",
              "    <tr>\n",
              "      <th>1</th>\n",
              "      <td>000103f0d9cfb60f</td>\n",
              "      <td>D'aww! He matches this background colour I'm s...</td>\n",
              "      <td>0</td>\n",
              "      <td>0</td>\n",
              "      <td>0</td>\n",
              "      <td>0</td>\n",
              "      <td>0</td>\n",
              "      <td>0</td>\n",
              "    </tr>\n",
              "    <tr>\n",
              "      <th>2</th>\n",
              "      <td>000113f07ec002fd</td>\n",
              "      <td>Hey man, I'm really not trying to edit war. It...</td>\n",
              "      <td>0</td>\n",
              "      <td>0</td>\n",
              "      <td>0</td>\n",
              "      <td>0</td>\n",
              "      <td>0</td>\n",
              "      <td>0</td>\n",
              "    </tr>\n",
              "    <tr>\n",
              "      <th>3</th>\n",
              "      <td>0001b41b1c6bb37e</td>\n",
              "      <td>\"\\r\\nMore\\r\\nI can't make any real suggestions...</td>\n",
              "      <td>0</td>\n",
              "      <td>0</td>\n",
              "      <td>0</td>\n",
              "      <td>0</td>\n",
              "      <td>0</td>\n",
              "      <td>0</td>\n",
              "    </tr>\n",
              "    <tr>\n",
              "      <th>4</th>\n",
              "      <td>0001d958c54c6e35</td>\n",
              "      <td>You, sir, are my hero. Any chance you remember...</td>\n",
              "      <td>0</td>\n",
              "      <td>0</td>\n",
              "      <td>0</td>\n",
              "      <td>0</td>\n",
              "      <td>0</td>\n",
              "      <td>0</td>\n",
              "    </tr>\n",
              "  </tbody>\n",
              "</table>\n",
              "</div>"
            ],
            "text/plain": [
              "                 id  ... identity_hate\n",
              "0  0000997932d777bf  ...             0\n",
              "1  000103f0d9cfb60f  ...             0\n",
              "2  000113f07ec002fd  ...             0\n",
              "3  0001b41b1c6bb37e  ...             0\n",
              "4  0001d958c54c6e35  ...             0\n",
              "\n",
              "[5 rows x 8 columns]"
            ]
          },
          "metadata": {
            "tags": []
          },
          "execution_count": 87
        }
      ]
    },
    {
      "cell_type": "markdown",
      "metadata": {
        "id": "9ShS0FSXja_b"
      },
      "source": [
        "Entries with all 0 under the 6 categories are neutral and considered as non-toxic."
      ]
    },
    {
      "cell_type": "code",
      "metadata": {
        "colab": {
          "base_uri": "https://localhost:8080/"
        },
        "id": "Gjhv-4jXja_b",
        "outputId": "f9e9f541-c099-48bb-a170-691c9a61cd1d"
      },
      "source": [
        "data.info()"
      ],
      "execution_count": 88,
      "outputs": [
        {
          "output_type": "stream",
          "text": [
            "<class 'pandas.core.frame.DataFrame'>\n",
            "RangeIndex: 159571 entries, 0 to 159570\n",
            "Data columns (total 8 columns):\n",
            " #   Column         Non-Null Count   Dtype \n",
            "---  ------         --------------   ----- \n",
            " 0   id             159571 non-null  object\n",
            " 1   comment_text   159571 non-null  object\n",
            " 2   toxic          159571 non-null  int64 \n",
            " 3   severe_toxic   159571 non-null  int64 \n",
            " 4   obscene        159571 non-null  int64 \n",
            " 5   threat         159571 non-null  int64 \n",
            " 6   insult         159571 non-null  int64 \n",
            " 7   identity_hate  159571 non-null  int64 \n",
            "dtypes: int64(6), object(2)\n",
            "memory usage: 9.7+ MB\n"
          ],
          "name": "stdout"
        }
      ]
    },
    {
      "cell_type": "markdown",
      "metadata": {
        "id": "PPKfXhPCja_c"
      },
      "source": [
        "There are no missing values in the dataset."
      ]
    },
    {
      "cell_type": "markdown",
      "metadata": {
        "id": "YnsrRF72ja_c"
      },
      "source": [
        "## Looking at the comments in the dataset."
      ]
    },
    {
      "cell_type": "code",
      "metadata": {
        "colab": {
          "base_uri": "https://localhost:8080/",
          "height": 53
        },
        "id": "28IOQKkgja_c",
        "outputId": "825123fc-0f3a-4948-a362-739f2f6dc1f1"
      },
      "source": [
        "data['comment_text'][0]"
      ],
      "execution_count": 89,
      "outputs": [
        {
          "output_type": "execute_result",
          "data": {
            "application/vnd.google.colaboratory.intrinsic+json": {
              "type": "string"
            },
            "text/plain": [
              "\"Explanation\\r\\nWhy the edits made under my username Hardcore Metallica Fan were reverted? They weren't vandalisms, just closure on some GAs after I voted at New York Dolls FAC. And please don't remove the template from the talk page since I'm retired now.89.205.38.27\""
            ]
          },
          "metadata": {
            "tags": []
          },
          "execution_count": 89
        }
      ]
    },
    {
      "cell_type": "code",
      "metadata": {
        "colab": {
          "base_uri": "https://localhost:8080/",
          "height": 35
        },
        "id": "BwmiCzyOja_c",
        "outputId": "fb705a47-d866-4944-ebf5-6ffe2877cc8c"
      },
      "source": [
        "data['comment_text'][1]"
      ],
      "execution_count": 90,
      "outputs": [
        {
          "output_type": "execute_result",
          "data": {
            "application/vnd.google.colaboratory.intrinsic+json": {
              "type": "string"
            },
            "text/plain": [
              "\"D'aww! He matches this background colour I'm seemingly stuck with. Thanks.  (talk) 21:51, January 11, 2016 (UTC)\""
            ]
          },
          "metadata": {
            "tags": []
          },
          "execution_count": 90
        }
      ]
    },
    {
      "cell_type": "code",
      "metadata": {
        "colab": {
          "base_uri": "https://localhost:8080/",
          "height": 105
        },
        "id": "PZYd1WCXja_c",
        "outputId": "129e5361-0041-4edc-f2ed-fcb49a4dbc90"
      },
      "source": [
        "data['comment_text'][3]"
      ],
      "execution_count": 91,
      "outputs": [
        {
          "output_type": "execute_result",
          "data": {
            "application/vnd.google.colaboratory.intrinsic+json": {
              "type": "string"
            },
            "text/plain": [
              "'\"\\r\\nMore\\r\\nI can\\'t make any real suggestions on improvement - I wondered if the section statistics should be later on, or a subsection of \"\"types of accidents\"\"  -I think the references may need tidying so that they are all in the exact same format ie date format etc. I can do that later on, if no-one else does first - if you have any preferences for formatting style on references or want to do it yourself please let me know.\\r\\n\\r\\nThere appears to be a backlog on articles for review so I guess there may be a delay until a reviewer turns up. It\\'s listed in the relevant form eg Wikipedia:Good_article_nominations#Transport  \"'"
            ]
          },
          "metadata": {
            "tags": []
          },
          "execution_count": 91
        }
      ]
    },
    {
      "cell_type": "markdown",
      "metadata": {
        "id": "Jh3qf4DUja_d"
      },
      "source": [
        "The comments are dirty with '\\n' values, symbols, numbers that will not be useful for analysis. We will be removing these and clean the data."
      ]
    },
    {
      "cell_type": "markdown",
      "metadata": {
        "id": "RhLopE3Ija_d"
      },
      "source": [
        "## Exploratory Data Analysis"
      ]
    },
    {
      "cell_type": "code",
      "metadata": {
        "colab": {
          "base_uri": "https://localhost:8080/"
        },
        "id": "nNVNG81Pja_d",
        "outputId": "5edaeb92-f8de-47ec-e90f-87b6bc54d784"
      },
      "source": [
        "# Check percentage of comments that are toxic compared to normal comments\n",
        "data.toxic.value_counts(normalize=True)"
      ],
      "execution_count": 92,
      "outputs": [
        {
          "output_type": "execute_result",
          "data": {
            "text/plain": [
              "0    0.904156\n",
              "1    0.095844\n",
              "Name: toxic, dtype: float64"
            ]
          },
          "metadata": {
            "tags": []
          },
          "execution_count": 92
        }
      ]
    },
    {
      "cell_type": "markdown",
      "metadata": {
        "id": "Gt2AN_9Wja_d"
      },
      "source": [
        "It seems that only 10% of the comments fall in the toxic category."
      ]
    },
    {
      "cell_type": "code",
      "metadata": {
        "colab": {
          "base_uri": "https://localhost:8080/",
          "height": 202
        },
        "id": "njhTob2aja_d",
        "outputId": "9bb4c218-418c-4140-b97d-ad69df51adbd"
      },
      "source": [
        "data.head()"
      ],
      "execution_count": 93,
      "outputs": [
        {
          "output_type": "execute_result",
          "data": {
            "text/html": [
              "<div>\n",
              "<style scoped>\n",
              "    .dataframe tbody tr th:only-of-type {\n",
              "        vertical-align: middle;\n",
              "    }\n",
              "\n",
              "    .dataframe tbody tr th {\n",
              "        vertical-align: top;\n",
              "    }\n",
              "\n",
              "    .dataframe thead th {\n",
              "        text-align: right;\n",
              "    }\n",
              "</style>\n",
              "<table border=\"1\" class=\"dataframe\">\n",
              "  <thead>\n",
              "    <tr style=\"text-align: right;\">\n",
              "      <th></th>\n",
              "      <th>id</th>\n",
              "      <th>comment_text</th>\n",
              "      <th>toxic</th>\n",
              "      <th>severe_toxic</th>\n",
              "      <th>obscene</th>\n",
              "      <th>threat</th>\n",
              "      <th>insult</th>\n",
              "      <th>identity_hate</th>\n",
              "    </tr>\n",
              "  </thead>\n",
              "  <tbody>\n",
              "    <tr>\n",
              "      <th>0</th>\n",
              "      <td>0000997932d777bf</td>\n",
              "      <td>Explanation\\r\\nWhy the edits made under my use...</td>\n",
              "      <td>0</td>\n",
              "      <td>0</td>\n",
              "      <td>0</td>\n",
              "      <td>0</td>\n",
              "      <td>0</td>\n",
              "      <td>0</td>\n",
              "    </tr>\n",
              "    <tr>\n",
              "      <th>1</th>\n",
              "      <td>000103f0d9cfb60f</td>\n",
              "      <td>D'aww! He matches this background colour I'm s...</td>\n",
              "      <td>0</td>\n",
              "      <td>0</td>\n",
              "      <td>0</td>\n",
              "      <td>0</td>\n",
              "      <td>0</td>\n",
              "      <td>0</td>\n",
              "    </tr>\n",
              "    <tr>\n",
              "      <th>2</th>\n",
              "      <td>000113f07ec002fd</td>\n",
              "      <td>Hey man, I'm really not trying to edit war. It...</td>\n",
              "      <td>0</td>\n",
              "      <td>0</td>\n",
              "      <td>0</td>\n",
              "      <td>0</td>\n",
              "      <td>0</td>\n",
              "      <td>0</td>\n",
              "    </tr>\n",
              "    <tr>\n",
              "      <th>3</th>\n",
              "      <td>0001b41b1c6bb37e</td>\n",
              "      <td>\"\\r\\nMore\\r\\nI can't make any real suggestions...</td>\n",
              "      <td>0</td>\n",
              "      <td>0</td>\n",
              "      <td>0</td>\n",
              "      <td>0</td>\n",
              "      <td>0</td>\n",
              "      <td>0</td>\n",
              "    </tr>\n",
              "    <tr>\n",
              "      <th>4</th>\n",
              "      <td>0001d958c54c6e35</td>\n",
              "      <td>You, sir, are my hero. Any chance you remember...</td>\n",
              "      <td>0</td>\n",
              "      <td>0</td>\n",
              "      <td>0</td>\n",
              "      <td>0</td>\n",
              "      <td>0</td>\n",
              "      <td>0</td>\n",
              "    </tr>\n",
              "  </tbody>\n",
              "</table>\n",
              "</div>"
            ],
            "text/plain": [
              "                 id  ... identity_hate\n",
              "0  0000997932d777bf  ...             0\n",
              "1  000103f0d9cfb60f  ...             0\n",
              "2  000113f07ec002fd  ...             0\n",
              "3  0001b41b1c6bb37e  ...             0\n",
              "4  0001d958c54c6e35  ...             0\n",
              "\n",
              "[5 rows x 8 columns]"
            ]
          },
          "metadata": {
            "tags": []
          },
          "execution_count": 93
        }
      ]
    },
    {
      "cell_type": "code",
      "metadata": {
        "id": "PSn3aJp_ja_d"
      },
      "source": [
        "#Create a new subset of the data by only taking the 2nd column onwards (comments and categories)\n",
        "data_count=data.iloc[:,2:].sum()"
      ],
      "execution_count": 94,
      "outputs": []
    },
    {
      "cell_type": "code",
      "metadata": {
        "colab": {
          "base_uri": "https://localhost:8080/"
        },
        "id": "_6hpt-zHja_d",
        "outputId": "f007ce78-5912-4563-f628-b5b6f52a65cb"
      },
      "source": [
        "data_count"
      ],
      "execution_count": 95,
      "outputs": [
        {
          "output_type": "execute_result",
          "data": {
            "text/plain": [
              "toxic            15294\n",
              "severe_toxic      1595\n",
              "obscene           8449\n",
              "threat             478\n",
              "insult            7877\n",
              "identity_hate     1405\n",
              "dtype: int64"
            ]
          },
          "metadata": {
            "tags": []
          },
          "execution_count": 95
        }
      ]
    },
    {
      "cell_type": "code",
      "metadata": {
        "colab": {
          "base_uri": "https://localhost:8080/",
          "height": 354
        },
        "id": "tsBKOiX1ja_d",
        "outputId": "3b9c047f-ba07-4ea1-ab07-a74a81db31fc"
      },
      "source": [
        "# Plot a chart with the following size\n",
        "plt.figure(figsize=(8,4))\n",
        "\n",
        "# Plot a bar chart using the index (category values) and the count of each category. alpha = 0.8 to make the bars more translucent\n",
        "ax = sns.barplot(data_count.index, data_count.values, alpha=0.8)\n",
        "\n",
        "plt.title(\"No. of comments per class\")\n",
        "plt.ylabel('No. of Occurrences', fontsize=12)\n",
        "plt.xlabel('Type ', fontsize=12)\n",
        "\n",
        "#adding the text labels for each bar\n",
        "rects = ax.patches\n",
        "labels = data_count.values\n",
        "for rect, label in zip(rects, labels):\n",
        "    height = rect.get_height()\n",
        "    ax.text(rect.get_x() + rect.get_width()/2, height + 5, label, ha='center', va='bottom')\n",
        "\n",
        "plt.show()"
      ],
      "execution_count": 96,
      "outputs": [
        {
          "output_type": "stream",
          "text": [
            "/usr/local/lib/python3.6/dist-packages/seaborn/_decorators.py:43: FutureWarning: Pass the following variables as keyword args: x, y. From version 0.12, the only valid positional argument will be `data`, and passing other arguments without an explicit keyword will result in an error or misinterpretation.\n",
            "  FutureWarning\n"
          ],
          "name": "stderr"
        },
        {
          "output_type": "display_data",
          "data": {
            "image/png": "[encoded data removed]",
            "text/plain": [
              "<Figure size 576x288 with 1 Axes>"
            ]
          },
          "metadata": {
            "tags": [],
            "needs_background": "light"
          }
        }
      ]
    },
    {
      "cell_type": "code",
      "metadata": {
        "colab": {
          "base_uri": "https://localhost:8080/"
        },
        "id": "y6f3Ai2oja_e",
        "outputId": "58bd3f09-adfa-40f0-94b3-94f9405188b0"
      },
      "source": [
        "num_rows = len(data)\n",
        "print(num_rows)"
      ],
      "execution_count": 97,
      "outputs": [
        {
          "output_type": "stream",
          "text": [
            "159571\n"
          ],
          "name": "stdout"
        }
      ]
    },
    {
      "cell_type": "code",
      "metadata": {
        "colab": {
          "base_uri": "https://localhost:8080/",
          "height": 319
        },
        "id": "OS6TPuCPja_e",
        "outputId": "89e43fa0-c20c-4033-9edd-7b4bff2b3ebf"
      },
      "source": [
        "# Create a bar graph \n",
        "sum_tox = data['toxic'].sum() / num_rows * 100\n",
        "sum_sev = data['severe_toxic'].sum() / num_rows * 100\n",
        "sum_obs = data['obscene'].sum() / num_rows * 100\n",
        "sum_thr = data['threat'].sum() / num_rows * 100\n",
        "sum_ins = data['insult'].sum() / num_rows * 100\n",
        "sum_ide = data['identity_hate'].sum() / num_rows * 100\n",
        "\n",
        "# Initiate a list of 6 values that represent the 6 x-axis values for the categories\n",
        "ind = np.arange(6)\n",
        "\n",
        "# Let the ind variable be the x-axis, whereas the % of toxicity for each category be the y-axis.\n",
        "# Sequence of % have been sorted manually. This method cannot be done if there are large numbers of categories.\n",
        "ax = plt.barh(ind, [sum_tox, sum_obs, sum_ins, sum_sev, sum_ide, sum_thr])\n",
        "plt.xlabel('Percentage (%)', size=20)\n",
        "plt.xticks(np.arange(0, 30, 5), size=20)\n",
        "plt.title('% of comments in various categories', size=22)\n",
        "plt.yticks(ind, ('Toxic', 'Obscene', 'Insult', 'Severe Toxic', 'Identity Hate', 'Threat', ), size=15)\n",
        "\n",
        "# Invert the graph so that it is in descending order.\n",
        "plt.gca().invert_yaxis()\n",
        "plt.show()\n"
      ],
      "execution_count": 98,
      "outputs": [
        {
          "output_type": "display_data",
          "data": {
            "image/png": "[encoded data removed]",
            "text/plain": [
              "<Figure size 432x288 with 1 Axes>"
            ]
          },
          "metadata": {
            "tags": [],
            "needs_background": "light"
          }
        }
      ]
    },
    {
      "cell_type": "markdown",
      "metadata": {
        "id": "89VzH-w3ja_e"
      },
      "source": [
        "## Preprocess the text"
      ]
    },
    {
      "cell_type": "code",
      "metadata": {
        "colab": {
          "base_uri": "https://localhost:8080/",
          "height": 53
        },
        "id": "0i6fdRLFja_e",
        "outputId": "085c1946-1b9e-4be3-9cc2-b78760223374"
      },
      "source": [
        "# Text preprocessing steps - remove numbers, capital letters, punctuation, '\\n'\n",
        "import re\n",
        "import string\n",
        "\n",
        "# remove all numbers with letters attached to them\n",
        "alphanumeric = lambda x: re.sub('\\w*\\d\\w*', ' ', x)\n",
        "\n",
        "# '[%s]' % re.escape(string.punctuation),' ' - replace punctuation with white space\n",
        "# .lower() - convert all strings to lowercase \n",
        "punc_lower = lambda x: re.sub('[%s]' % re.escape(string.punctuation), ' ', x.lower())\n",
        "\n",
        "# Remove all '\\n' in the string and replace it with a space\n",
        "remove_n = lambda x: re.sub(\"\\n\", \" \", x)\n",
        "\n",
        "# Remove all non-ascii characters \n",
        "remove_non_ascii = lambda x: re.sub(r'[^\\x00-\\x7f]',r' ', x)\n",
        "\n",
        "# Apply all the lambda functions wrote previously through .map on the comments column\n",
        "data['comment_text'] = data['comment_text'].map(alphanumeric).map(punc_lower).map(remove_n).map(remove_non_ascii)\n",
        "\n",
        "data['comment_text'][0]"
      ],
      "execution_count": 99,
      "outputs": [
        {
          "output_type": "execute_result",
          "data": {
            "application/vnd.google.colaboratory.intrinsic+json": {
              "type": "string"
            },
            "text/plain": [
              "'explanation\\r why the edits made under my username hardcore metallica fan were reverted  they weren t vandalisms  just closure on some gas after i voted at new york dolls fac  and please don t remove the template from the talk page since i m retired now        '"
            ]
          },
          "metadata": {
            "tags": []
          },
          "execution_count": 99
        }
      ]
    },
    {
      "cell_type": "markdown",
      "metadata": {
        "id": "eQTwAwRQja_e"
      },
      "source": [
        "## Dividing the dataset into 6 sections based on classes in the dataset."
      ]
    },
    {
      "cell_type": "code",
      "metadata": {
        "id": "aqdJggI-ja_e"
      },
      "source": [
        "data_tox = data.loc[:,['id','comment_text','toxic']]"
      ],
      "execution_count": 100,
      "outputs": []
    },
    {
      "cell_type": "code",
      "metadata": {
        "colab": {
          "base_uri": "https://localhost:8080/",
          "height": 53
        },
        "id": "vSBK_95dja_e",
        "outputId": "f8125b51-bf9f-4567-a62b-f5e193114310"
      },
      "source": [
        "data_tox['comment_text'][0]"
      ],
      "execution_count": 101,
      "outputs": [
        {
          "output_type": "execute_result",
          "data": {
            "application/vnd.google.colaboratory.intrinsic+json": {
              "type": "string"
            },
            "text/plain": [
              "'explanation\\r why the edits made under my username hardcore metallica fan were reverted  they weren t vandalisms  just closure on some gas after i voted at new york dolls fac  and please don t remove the template from the talk page since i m retired now        '"
            ]
          },
          "metadata": {
            "tags": []
          },
          "execution_count": 101
        }
      ]
    },
    {
      "cell_type": "code",
      "metadata": {
        "colab": {
          "base_uri": "https://localhost:8080/",
          "height": 35
        },
        "id": "5ek-T9luja_e",
        "outputId": "e2ea554f-899b-48c2-a66c-8b231031f3c2"
      },
      "source": [
        "data_tox['comment_text'][1]"
      ],
      "execution_count": 102,
      "outputs": [
        {
          "output_type": "execute_result",
          "data": {
            "application/vnd.google.colaboratory.intrinsic+json": {
              "type": "string"
            },
            "text/plain": [
              "'d aww  he matches this background colour i m seemingly stuck with  thanks    talk       january       utc '"
            ]
          },
          "metadata": {
            "tags": []
          },
          "execution_count": 102
        }
      ]
    },
    {
      "cell_type": "code",
      "metadata": {
        "id": "VoAi-oD2ja_f"
      },
      "source": [
        "data_sev = data.loc[:,['id','comment_text','severe_toxic']]"
      ],
      "execution_count": 103,
      "outputs": []
    },
    {
      "cell_type": "code",
      "metadata": {
        "id": "s1hjSrgOja_f"
      },
      "source": [
        "data_obs = data.loc[:,['id','comment_text','obscene']]"
      ],
      "execution_count": 104,
      "outputs": []
    },
    {
      "cell_type": "code",
      "metadata": {
        "id": "LqD5fH-oja_f"
      },
      "source": [
        "data_thr = data.loc[:,['id','comment_text','threat']]"
      ],
      "execution_count": 105,
      "outputs": []
    },
    {
      "cell_type": "code",
      "metadata": {
        "id": "vpIQPz_xja_f"
      },
      "source": [
        "data_ins = data.loc[:,['id','comment_text','insult']]"
      ],
      "execution_count": 106,
      "outputs": []
    },
    {
      "cell_type": "code",
      "metadata": {
        "id": "v-nL7kt0ja_f"
      },
      "source": [
        "data_ide = data.loc[:,['id','comment_text','identity_hate']]"
      ],
      "execution_count": 107,
      "outputs": []
    },
    {
      "cell_type": "markdown",
      "metadata": {
        "id": "zZ2SXyX-ja_f"
      },
      "source": [
        "## Creating WordCloud\n",
        "### Shows the words which occur most frequently for each category. \n",
        "#### Warning: Profanity ahead."
      ]
    },
    {
      "cell_type": "code",
      "metadata": {
        "id": "Rx6_OtUVja_f"
      },
      "source": [
        "import wordcloud\n",
        "from PIL import Image\n",
        "from wordcloud import WordCloud, STOPWORDS, ImageColorGenerator\n",
        "from nltk.corpus import stopwords"
      ],
      "execution_count": 108,
      "outputs": []
    },
    {
      "cell_type": "code",
      "metadata": {
        "id": "m-MzwX-Fja_f"
      },
      "source": [
        "def wordcloud(df, label):\n",
        "    \n",
        "    # Print only rows where the toxic category label value is 1 (ie. the comment is toxic)\n",
        "    subset=df[df[label]==1]\n",
        "    text=subset.comment_text.values\n",
        "    wc= WordCloud(background_color=\"black\",max_words=4000)\n",
        "\n",
        "    wc.generate(\" \".join(text))\n",
        "\n",
        "    plt.figure(figsize=(20,20))\n",
        "    plt.subplot(221)\n",
        "    plt.axis(\"off\")\n",
        "    plt.title(\"Words frequented in {}\".format(label), fontsize=20)\n",
        "    plt.imshow(wc.recolor(colormap= 'gist_earth' , random_state=244), alpha=0.98)"
      ],
      "execution_count": 109,
      "outputs": []
    },
    {
      "cell_type": "code",
      "metadata": {
        "colab": {
          "base_uri": "https://localhost:8080/",
          "height": 306
        },
        "id": "d790yo5hja_f",
        "outputId": "2ca78645-a118-46d8-d672-155c54e163bc"
      },
      "source": [
        "wordcloud(data_ide,'identity_hate')"
      ],
      "execution_count": 110,
      "outputs": [
        {
          "output_type": "display_data",
          "data": {
            "image/png": "[encoded data removed]",
            "text/plain": [
              "<Figure size 1440x1440 with 1 Axes>"
            ]
          },
          "metadata": {
            "tags": [],
            "needs_background": "light"
          }
        }
      ]
    },
    {
      "cell_type": "code",
      "metadata": {
        "colab": {
          "base_uri": "https://localhost:8080/",
          "height": 306
        },
        "id": "jfQH_TuUja_f",
        "outputId": "20a45385-0d2d-41d1-fc15-1ecaeae64105"
      },
      "source": [
        "wordcloud(data_ins, 'insult')"
      ],
      "execution_count": 111,
      "outputs": [
        {
          "output_type": "display_data",
          "data": {
            "image/png": "[encoded data removed]",
            "text/plain": [
              "<Figure size 1440x1440 with 1 Axes>"
            ]
          },
          "metadata": {
            "tags": [],
            "needs_background": "light"
          }
        }
      ]
    },
    {
      "cell_type": "markdown",
      "metadata": {
        "id": "AhNuXAtsja_f"
      },
      "source": [
        "#### Earlier, we saw that comments that are toxic (and other forms of toxicity) make up less than 10% of the comments in the data. This leads to the issue of class imbalance.\n",
        "\n",
        "#### We deal with class imbalance by taking a subset of the data where the proportion of the toxic comments are at least 20% (ideally 50%) in relation to non-toxic comments.\n",
        "\n",
        "#### For a start, we can take 5000 rows of comments that are toxic and concatenate them row-wise with those that are not toxic so that we have a balanced dataset."
      ]
    },
    {
      "cell_type": "code",
      "metadata": {
        "colab": {
          "base_uri": "https://localhost:8080/",
          "height": 202
        },
        "id": "b342wAeXja_f",
        "outputId": "44adb309-5dc1-4dcf-c689-7c9b1920858d"
      },
      "source": [
        "data_tox.head()"
      ],
      "execution_count": 112,
      "outputs": [
        {
          "output_type": "execute_result",
          "data": {
            "text/html": [
              "<div>\n",
              "<style scoped>\n",
              "    .dataframe tbody tr th:only-of-type {\n",
              "        vertical-align: middle;\n",
              "    }\n",
              "\n",
              "    .dataframe tbody tr th {\n",
              "        vertical-align: top;\n",
              "    }\n",
              "\n",
              "    .dataframe thead th {\n",
              "        text-align: right;\n",
              "    }\n",
              "</style>\n",
              "<table border=\"1\" class=\"dataframe\">\n",
              "  <thead>\n",
              "    <tr style=\"text-align: right;\">\n",
              "      <th></th>\n",
              "      <th>id</th>\n",
              "      <th>comment_text</th>\n",
              "      <th>toxic</th>\n",
              "    </tr>\n",
              "  </thead>\n",
              "  <tbody>\n",
              "    <tr>\n",
              "      <th>0</th>\n",
              "      <td>0000997932d777bf</td>\n",
              "      <td>explanation\\r why the edits made under my user...</td>\n",
              "      <td>0</td>\n",
              "    </tr>\n",
              "    <tr>\n",
              "      <th>1</th>\n",
              "      <td>000103f0d9cfb60f</td>\n",
              "      <td>d aww  he matches this background colour i m s...</td>\n",
              "      <td>0</td>\n",
              "    </tr>\n",
              "    <tr>\n",
              "      <th>2</th>\n",
              "      <td>000113f07ec002fd</td>\n",
              "      <td>hey man  i m really not trying to edit war  it...</td>\n",
              "      <td>0</td>\n",
              "    </tr>\n",
              "    <tr>\n",
              "      <th>3</th>\n",
              "      <td>0001b41b1c6bb37e</td>\n",
              "      <td>\\r more\\r i can t make any real suggestions o...</td>\n",
              "      <td>0</td>\n",
              "    </tr>\n",
              "    <tr>\n",
              "      <th>4</th>\n",
              "      <td>0001d958c54c6e35</td>\n",
              "      <td>you  sir  are my hero  any chance you remember...</td>\n",
              "      <td>0</td>\n",
              "    </tr>\n",
              "  </tbody>\n",
              "</table>\n",
              "</div>"
            ],
            "text/plain": [
              "                 id                                       comment_text  toxic\n",
              "0  0000997932d777bf  explanation\\r why the edits made under my user...      0\n",
              "1  000103f0d9cfb60f  d aww  he matches this background colour i m s...      0\n",
              "2  000113f07ec002fd  hey man  i m really not trying to edit war  it...      0\n",
              "3  0001b41b1c6bb37e   \\r more\\r i can t make any real suggestions o...      0\n",
              "4  0001d958c54c6e35  you  sir  are my hero  any chance you remember...      0"
            ]
          },
          "metadata": {
            "tags": []
          },
          "execution_count": 112
        }
      ]
    },
    {
      "cell_type": "code",
      "metadata": {
        "colab": {
          "base_uri": "https://localhost:8080/"
        },
        "id": "vANEdSlAja_g",
        "outputId": "80745bf2-33be-4de9-da69-09a4115ab445"
      },
      "source": [
        "data_tox_1 = data_tox[data_tox['toxic'] == 1].iloc[0:5000,:]\n",
        "data_tox_1.shape"
      ],
      "execution_count": 113,
      "outputs": [
        {
          "output_type": "execute_result",
          "data": {
            "text/plain": [
              "(5000, 3)"
            ]
          },
          "metadata": {
            "tags": []
          },
          "execution_count": 113
        }
      ]
    },
    {
      "cell_type": "code",
      "metadata": {
        "id": "HjZ3pttPja_g"
      },
      "source": [
        "data_tox_0 = data_tox[data_tox['toxic'] == 0].iloc[0:5000,:]"
      ],
      "execution_count": 114,
      "outputs": []
    },
    {
      "cell_type": "code",
      "metadata": {
        "colab": {
          "base_uri": "https://localhost:8080/"
        },
        "id": "gefkFEH_ja_g",
        "outputId": "e6824dbe-ba53-40c1-8527-805dc7bf7521"
      },
      "source": [
        "data_tox_done = pd.concat([data_tox_1, data_tox_0], axis=0)\n",
        "data_tox_done.shape"
      ],
      "execution_count": 115,
      "outputs": [
        {
          "output_type": "execute_result",
          "data": {
            "text/plain": [
              "(10000, 3)"
            ]
          },
          "metadata": {
            "tags": []
          },
          "execution_count": 115
        }
      ]
    },
    {
      "cell_type": "markdown",
      "metadata": {
        "id": "0DXyyOp-ja_g"
      },
      "source": [
        "### Not all categories have 5000 rows. So we should count them first and balance them accordingly."
      ]
    },
    {
      "cell_type": "code",
      "metadata": {
        "colab": {
          "base_uri": "https://localhost:8080/"
        },
        "id": "WQIlPDU0ja_g",
        "outputId": "7dc270e3-b43e-49f1-8f9d-8623625117d3"
      },
      "source": [
        "data_sev[data_sev['severe_toxic'] == 1].count()\n"
      ],
      "execution_count": 116,
      "outputs": [
        {
          "output_type": "execute_result",
          "data": {
            "text/plain": [
              "id              1595\n",
              "comment_text    1595\n",
              "severe_toxic    1595\n",
              "dtype: int64"
            ]
          },
          "metadata": {
            "tags": []
          },
          "execution_count": 116
        }
      ]
    },
    {
      "cell_type": "code",
      "metadata": {
        "colab": {
          "base_uri": "https://localhost:8080/"
        },
        "id": "_tZKW1UGja_g",
        "outputId": "d4be5b9a-23a4-41f8-f19b-270dc9af4dbf"
      },
      "source": [
        "data_sev_1 = data_sev[data_sev['severe_toxic'] == 1].iloc[0:1595,:]\n",
        "data_sev_0 = data_sev[data_sev['severe_toxic'] == 0].iloc[0:1595,:]\n",
        "data_sev_done = pd.concat([data_sev_1, data_sev_0], axis=0)\n",
        "data_sev_done.shape"
      ],
      "execution_count": 117,
      "outputs": [
        {
          "output_type": "execute_result",
          "data": {
            "text/plain": [
              "(3190, 3)"
            ]
          },
          "metadata": {
            "tags": []
          },
          "execution_count": 117
        }
      ]
    },
    {
      "cell_type": "markdown",
      "metadata": {
        "id": "Ok2-wcv8ja_g"
      },
      "source": [
        "We only had 1,595 comments that are severely toxic. We combine it together with another 1,595 comments that are not toxic to form a new dataset that is balanced. We repeat this for all other categories."
      ]
    },
    {
      "cell_type": "code",
      "metadata": {
        "colab": {
          "base_uri": "https://localhost:8080/"
        },
        "id": "M7g_FU1nja_g",
        "outputId": "73d1d1dd-7a3f-4daa-99cb-ba04593bc52c"
      },
      "source": [
        "data_obs[data_obs['obscene'] == 1].count()"
      ],
      "execution_count": 118,
      "outputs": [
        {
          "output_type": "execute_result",
          "data": {
            "text/plain": [
              "id              8449\n",
              "comment_text    8449\n",
              "obscene         8449\n",
              "dtype: int64"
            ]
          },
          "metadata": {
            "tags": []
          },
          "execution_count": 118
        }
      ]
    },
    {
      "cell_type": "code",
      "metadata": {
        "colab": {
          "base_uri": "https://localhost:8080/"
        },
        "id": "PC8cI_Wvja_g",
        "outputId": "b62ff606-ea41-4893-afa4-2d65673a60bf"
      },
      "source": [
        "data_obs_1 = data_obs[data_obs['obscene'] == 1].iloc[0:5000,:]\n",
        "data_obs_0 = data_obs[data_obs['obscene'] == 0].iloc[0:5000,:]\n",
        "data_obs_done = pd.concat([data_obs_1, data_obs_0], axis=0)\n",
        "data_obs_done.shape"
      ],
      "execution_count": 119,
      "outputs": [
        {
          "output_type": "execute_result",
          "data": {
            "text/plain": [
              "(10000, 3)"
            ]
          },
          "metadata": {
            "tags": []
          },
          "execution_count": 119
        }
      ]
    },
    {
      "cell_type": "code",
      "metadata": {
        "colab": {
          "base_uri": "https://localhost:8080/"
        },
        "id": "JYq83pkija_h",
        "outputId": "542f3a96-ed8c-436e-964a-b7ce77a630b3"
      },
      "source": [
        "data_thr[data_thr['threat'] == 1].count()"
      ],
      "execution_count": 120,
      "outputs": [
        {
          "output_type": "execute_result",
          "data": {
            "text/plain": [
              "id              478\n",
              "comment_text    478\n",
              "threat          478\n",
              "dtype: int64"
            ]
          },
          "metadata": {
            "tags": []
          },
          "execution_count": 120
        }
      ]
    },
    {
      "cell_type": "markdown",
      "metadata": {
        "id": "nF-CvlRyja_h"
      },
      "source": [
        "The number of threat comments of 478 is too miniscule when addded with another 478 clean comments for a proper analysis. We decided that the clean comments will comprise 80% at the most of the dataset, as shown below."
      ]
    },
    {
      "cell_type": "code",
      "metadata": {
        "colab": {
          "base_uri": "https://localhost:8080/"
        },
        "id": "zp8Co3Aija_h",
        "outputId": "b5e4f086-1a38-4e3d-a5f8-40aff7f5e1da"
      },
      "source": [
        "data_thr_1 = data_thr[data_thr['threat'] == 1].iloc[0:478,:]\n",
        "\n",
        "# We include 1912 comments that have no threat so that the data with threat (478) will represent 20% of the dataset.\n",
        "data_thr_0 = data_thr[data_thr['threat'] == 0].iloc[0:1912,:]  \n",
        "data_thr_done = pd.concat([data_thr_1, data_thr_0], axis=0)\n",
        "data_thr_done.shape"
      ],
      "execution_count": 121,
      "outputs": [
        {
          "output_type": "execute_result",
          "data": {
            "text/plain": [
              "(2390, 3)"
            ]
          },
          "metadata": {
            "tags": []
          },
          "execution_count": 121
        }
      ]
    },
    {
      "cell_type": "code",
      "metadata": {
        "colab": {
          "base_uri": "https://localhost:8080/"
        },
        "id": "96xtsiv-ja_h",
        "outputId": "149eec89-2b18-4c1e-88ca-b6e0a2894d80"
      },
      "source": [
        "data_ins[data_ins['insult'] == 1].count()"
      ],
      "execution_count": 122,
      "outputs": [
        {
          "output_type": "execute_result",
          "data": {
            "text/plain": [
              "id              7877\n",
              "comment_text    7877\n",
              "insult          7877\n",
              "dtype: int64"
            ]
          },
          "metadata": {
            "tags": []
          },
          "execution_count": 122
        }
      ]
    },
    {
      "cell_type": "code",
      "metadata": {
        "colab": {
          "base_uri": "https://localhost:8080/"
        },
        "id": "xczCD-Pkja_h",
        "outputId": "269eea3b-6ece-49b1-9d4b-985828cd2995"
      },
      "source": [
        "data_ins_1 = data_ins[data_ins['insult'] == 1].iloc[0:5000,:]\n",
        "data_ins_0 = data_ins[data_ins['insult'] == 0].iloc[0:5000,:]\n",
        "data_ins_done = pd.concat([data_ins_1, data_ins_0], axis=0)\n",
        "data_ins_done.shape"
      ],
      "execution_count": 123,
      "outputs": [
        {
          "output_type": "execute_result",
          "data": {
            "text/plain": [
              "(10000, 3)"
            ]
          },
          "metadata": {
            "tags": []
          },
          "execution_count": 123
        }
      ]
    },
    {
      "cell_type": "code",
      "metadata": {
        "colab": {
          "base_uri": "https://localhost:8080/"
        },
        "id": "2Votu3lEja_h",
        "outputId": "4cf190fa-4a96-458f-c57d-e00a18215cdf"
      },
      "source": [
        "data_ide[data_ide['identity_hate'] == 1].count()"
      ],
      "execution_count": 124,
      "outputs": [
        {
          "output_type": "execute_result",
          "data": {
            "text/plain": [
              "id               1405\n",
              "comment_text     1405\n",
              "identity_hate    1405\n",
              "dtype: int64"
            ]
          },
          "metadata": {
            "tags": []
          },
          "execution_count": 124
        }
      ]
    },
    {
      "cell_type": "code",
      "metadata": {
        "colab": {
          "base_uri": "https://localhost:8080/"
        },
        "id": "CDbAgBVoja_i",
        "outputId": "51861726-13b1-42e8-d33d-82d7c98e20bb"
      },
      "source": [
        "data_ide_1 = data_ide[data_ide['identity_hate'] == 1].iloc[0:1405,:] # 20%\n",
        "data_ide_0 = data_ide[data_ide['identity_hate'] == 0].iloc[0:5620,:] # 80%\n",
        "data_ide_done = pd.concat([data_ide_1, data_ide_0], axis=0)\n",
        "data_ide_done.shape"
      ],
      "execution_count": 125,
      "outputs": [
        {
          "output_type": "execute_result",
          "data": {
            "text/plain": [
              "(7025, 3)"
            ]
          },
          "metadata": {
            "tags": []
          },
          "execution_count": 125
        }
      ]
    },
    {
      "cell_type": "markdown",
      "metadata": {
        "id": "9XpXZC-Bja_i"
      },
      "source": [
        "Reminder: Number of comments that fall into the following categories:\n",
        "\n",
        "- Toxic (14,000+) \n",
        "- Severe Toxic (1595)\n",
        "- Obscene (8449)\n",
        "- Threat (478)\n",
        "- Insult (7877)\n",
        "- Identity Hate (1405)"
      ]
    },
    {
      "cell_type": "markdown",
      "metadata": {
        "id": "SJPH4_AIja_i"
      },
      "source": [
        "#### df_****_done refers to the dataframes of each class that has been balanced (at least 20/80 proportion)"
      ]
    },
    {
      "cell_type": "markdown",
      "metadata": {
        "id": "RJP7a2opja_i"
      },
      "source": [
        "|                      | DF name       | No. of pts (1) | No. of pts (0) | Total data pts |\n",
        "|----------------------|---------------|----------------|----------------|----------------|\n",
        "| Toxic                | data_tox_done | 5000           | 5000           | 10000          |\n",
        "| Severe Toxic         | data_sev_done | 1595           | 1595           | 3190           |\n",
        "| Obscene (8449)       | data_obs_done | 5000           | 5000           | 10000          |\n",
        "| Threat (478)         | data_thr_done | 478            | 1912           | 2390           |\n",
        "| Insult (7877)        | data_ins_done | 5000           | 5000           | 10000          |\n",
        "| Identity Hate (1405) | data_ide_done | 1405           | 5620           | 7025           |"
      ]
    },
    {
      "cell_type": "markdown",
      "metadata": {
        "id": "KgJN9rCRja_i"
      },
      "source": [
        "### Import relevant packages for modelling"
      ]
    },
    {
      "cell_type": "code",
      "metadata": {
        "id": "FpLOLB6Mja_i"
      },
      "source": [
        "# Import packages for pre-processing\n",
        "from sklearn import preprocessing\n",
        "from sklearn.feature_selection import SelectFromModel\n",
        "\n",
        "# Import tools to spliting data and evaluating model performance\n",
        "from sklearn.model_selection import train_test_split, KFold, cross_val_score\n",
        "from sklearn.metrics import f1_score, precision_score, recall_score, precision_recall_curve, fbeta_score, confusion_matrix\n",
        "from sklearn.metrics import roc_auc_score, roc_curve\n",
        "\n",
        "# Import ML algorithms\n",
        "from sklearn.linear_model import LogisticRegression\n",
        "from sklearn.neighbors import KNeighborsClassifier\n",
        "from sklearn.naive_bayes import MultinomialNB, BernoulliNB\n",
        "from sklearn.svm import LinearSVC\n",
        "from sklearn.ensemble import RandomForestClassifier\n"
      ],
      "execution_count": 126,
      "outputs": []
    },
    {
      "cell_type": "markdown",
      "metadata": {
        "id": "NZa2i8JFja_i"
      },
      "source": [
        "### Create simple function that takes in a dataset and allows user to choose dataset, toxicity label, vectorizer and number of ngrams"
      ]
    },
    {
      "cell_type": "code",
      "metadata": {
        "id": "crWD0z7lja_i"
      },
      "source": [
        "'''\n",
        "df_done: data_tox_done, data_sev_done, ...\n",
        "label: toxic, severe_toxic, ...\n",
        "vectorizer values: CountVectorizer, TfidfVectorizer\n",
        "gram_range values: (1,1) for unigram, (2,2) for bigram\n",
        "'''\n",
        "def cv_tf_train_test(df_done,label,vectorizer,ngram):\n",
        "\n",
        "    ''' Train/Test split'''\n",
        "    # Split the data into X and y data sets\n",
        "    X = df_done.comment_text\n",
        "    y = df_done[label]\n",
        "\n",
        "    # Split our data into training and test data \n",
        "    X_train, X_test, y_train, y_test = train_test_split(X, y, test_size=0.3, random_state=42)\n",
        "\n",
        "    ''' Count Vectorizer/TF-IDF '''\n",
        "\n",
        "    # Create a Vectorizer object and remove stopwords from the table\n",
        "    cv1 = vectorizer(ngram_range=(ngram), stop_words='english')\n",
        "    \n",
        "    X_train_cv1 = cv1.fit_transform(X_train) # Learn the vocabulary dictionary and return term-document matrix\n",
        "    X_test_cv1  = cv1.transform(X_test)      # Learn a vocabulary dictionary of all tokens in the raw documents.\n",
        "    \n",
        "    # Output a Dataframe of the CountVectorizer with unique words as the labels\n",
        "    # test = pd.DataFrame(X_train_cv1.toarray(), columns=cv1.get_feature_names())\n",
        "        \n",
        "    ''' Initialize all model objects and fit the models on the training data '''\n",
        "    lr = LogisticRegression()\n",
        "    lr.fit(X_train_cv1, y_train)\n",
        "    print('lr done')\n",
        "\n",
        "    knn = KNeighborsClassifier(n_neighbors=5)\n",
        "    knn.fit(X_train_cv1, y_train)\n",
        "\n",
        "    bnb = BernoulliNB()\n",
        "    bnb.fit(X_train_cv1, y_train)\n",
        "    print('bnb done')\n",
        "    \n",
        "    mnb = MultinomialNB()\n",
        "    mnb.fit(X_train_cv1, y_train)\n",
        "    print('mnb done')\n",
        "    \n",
        "    svm_model = LinearSVC()\n",
        "    svm_model.fit(X_train_cv1, y_train)\n",
        "\n",
        "    randomforest = RandomForestClassifier(n_estimators=100, random_state=42)\n",
        "    randomforest.fit(X_train_cv1, y_train)\n",
        "    print('rdf done')\n",
        "    \n",
        "    # Create a list of F1 score of all models \n",
        "    f1_score_data = {'F1 Score':[f1_score(lr.predict(X_test_cv1), y_test), f1_score(knn.predict(X_test_cv1), y_test), \n",
        "                                f1_score(bnb.predict(X_test_cv1), y_test), f1_score(mnb.predict(X_test_cv1), y_test),\n",
        "                                f1_score(svm_model.predict(X_test_cv1), y_test), f1_score(randomforest.predict(X_test_cv1), y_test)]} \n",
        "                          \n",
        "    # Create DataFrame with the model names as column labels\n",
        "    df_f1 = pd.DataFrame(f1_score_data, index=['Log Regression','KNN', 'BernoulliNB', 'MultinomialNB', 'SVM', 'Random Forest'])  \n",
        "\n",
        "    return df_f1\n"
      ],
      "execution_count": 127,
      "outputs": []
    },
    {
      "cell_type": "markdown",
      "metadata": {
        "id": "DNuFxpxFja_i"
      },
      "source": [
        "### Let's create a TF-IDF vectorizer object for each category and calculate the F1 scores across all models"
      ]
    },
    {
      "cell_type": "code",
      "metadata": {
        "colab": {
          "base_uri": "https://localhost:8080/",
          "height": 319
        },
        "id": "NYMwYixlja_i",
        "outputId": "2d2f1124-f496-4d7c-fb31-ff84b7fc3e8b"
      },
      "source": [
        "'''\n",
        "def cv_tf_train_test(df_done,label,vectorizer,ngram)\n",
        "vectorizer values: CountVectorizer, TfidfVectorizer\n",
        "ngram_range values: (1,1) for unigram, (2,2) for bigram\n",
        "'''\n",
        "\n",
        "import time\n",
        "\n",
        "t0 = time.time()\n",
        "\n",
        "df_tox_cv = cv_tf_train_test(data_tox_done, 'toxic', TfidfVectorizer, (1,1))\n",
        "df_tox_cv.rename(columns={'F1 Score': 'F1 Score(toxic)'}, inplace=True)\n",
        "\n",
        "t1 = time.time()\n",
        "\n",
        "total = 'Time taken: {} seconds'.format(t1-t0)\n",
        "print(total)\n",
        "\n",
        "df_tox_cv\n",
        "\n",
        "# Various permutations of the dataset, category, vectorizer and n-gram\n",
        "\n",
        "# cv_tf_train_test(data_tox_done, 'toxic', CountVectorizer, (1,1))\n",
        "# cv_tf_train_test(data_sev_done, 'severe_toxic', CountVectorizer, (1,1))\n",
        "# cv_tf_train_test(data_obs_done, 'obscene', CountVectorizer, (1,1))\n",
        "# cv_tf_train_test(data_thr_done, 'threat', CountVectorizer, (1,1))\n",
        "# cv_tf_train_test(data_ins_done, 'insult', CountVectorizer, (1,1))\n",
        "# cv_tf_train_test(data_ide_done, 'identity_hate', CountVectorizer, (1,1))\n",
        "\n",
        "# cv_tf_train_test(data_tox_done, 'toxic', TfidfVectorizer, (1,1))\n",
        "# cv_tf_train_test(data_sev_done, 'severe_toxic', TfidfVectorizer, (1,1))\n",
        "# cv_tf_train_test(data_obs_done, 'obscene', TfidfVectorizer, (1,1))\n",
        "# cv_tf_train_test(data_thr_done, 'threat', TfidfVectorizer, (1,1))\n",
        "# cv_tf_train_test(data_ins_done, 'insult', TfidfVectorizer, (1,1))\n",
        "# cv_tf_train_test(data_ide_done, 'identity_hate', TfidfVectorizer, (1,1))\n"
      ],
      "execution_count": 128,
      "outputs": [
        {
          "output_type": "stream",
          "text": [
            "lr done\n",
            "bnb done\n",
            "mnb done\n",
            "rdf done\n",
            "Time taken: 10.519789695739746 seconds\n"
          ],
          "name": "stdout"
        },
        {
          "output_type": "execute_result",
          "data": {
            "text/html": [
              "<div>\n",
              "<style scoped>\n",
              "    .dataframe tbody tr th:only-of-type {\n",
              "        vertical-align: middle;\n",
              "    }\n",
              "\n",
              "    .dataframe tbody tr th {\n",
              "        vertical-align: top;\n",
              "    }\n",
              "\n",
              "    .dataframe thead th {\n",
              "        text-align: right;\n",
              "    }\n",
              "</style>\n",
              "<table border=\"1\" class=\"dataframe\">\n",
              "  <thead>\n",
              "    <tr style=\"text-align: right;\">\n",
              "      <th></th>\n",
              "      <th>F1 Score(toxic)</th>\n",
              "    </tr>\n",
              "  </thead>\n",
              "  <tbody>\n",
              "    <tr>\n",
              "      <th>Log Regression</th>\n",
              "      <td>0.861234</td>\n",
              "    </tr>\n",
              "    <tr>\n",
              "      <th>KNN</th>\n",
              "      <td>0.185120</td>\n",
              "    </tr>\n",
              "    <tr>\n",
              "      <th>BernoulliNB</th>\n",
              "      <td>0.776521</td>\n",
              "    </tr>\n",
              "    <tr>\n",
              "      <th>MultinomialNB</th>\n",
              "      <td>0.874958</td>\n",
              "    </tr>\n",
              "    <tr>\n",
              "      <th>SVM</th>\n",
              "      <td>0.876133</td>\n",
              "    </tr>\n",
              "    <tr>\n",
              "      <th>Random Forest</th>\n",
              "      <td>0.838055</td>\n",
              "    </tr>\n",
              "  </tbody>\n",
              "</table>\n",
              "</div>"
            ],
            "text/plain": [
              "                F1 Score(toxic)\n",
              "Log Regression         0.861234\n",
              "KNN                    0.185120\n",
              "BernoulliNB            0.776521\n",
              "MultinomialNB          0.874958\n",
              "SVM                    0.876133\n",
              "Random Forest          0.838055"
            ]
          },
          "metadata": {
            "tags": []
          },
          "execution_count": 128
        }
      ]
    },
    {
      "cell_type": "code",
      "metadata": {
        "colab": {
          "base_uri": "https://localhost:8080/",
          "height": 319
        },
        "id": "0UAWUm7Dja_j",
        "outputId": "c2858e00-6af7-4041-a69e-222a409779f2"
      },
      "source": [
        "\n",
        "t0 = time.time()\n",
        "\n",
        "df_sev_cv = cv_tf_train_test(data_sev_done, 'severe_toxic', TfidfVectorizer, (1,1))\n",
        "df_sev_cv.rename(columns={'F1 Score': 'F1 Score(severe_toxic)'}, inplace=True)\n",
        "\n",
        "t1 = time.time()\n",
        "\n",
        "total = 'Time taken: {} seconds'.format(t1-t0)\n",
        "print(total)\n",
        "df_sev_cv"
      ],
      "execution_count": 129,
      "outputs": [
        {
          "output_type": "stream",
          "text": [
            "lr done\n",
            "bnb done\n",
            "mnb done\n",
            "rdf done\n",
            "Time taken: 1.790165901184082 seconds\n"
          ],
          "name": "stdout"
        },
        {
          "output_type": "execute_result",
          "data": {
            "text/html": [
              "<div>\n",
              "<style scoped>\n",
              "    .dataframe tbody tr th:only-of-type {\n",
              "        vertical-align: middle;\n",
              "    }\n",
              "\n",
              "    .dataframe tbody tr th {\n",
              "        vertical-align: top;\n",
              "    }\n",
              "\n",
              "    .dataframe thead th {\n",
              "        text-align: right;\n",
              "    }\n",
              "</style>\n",
              "<table border=\"1\" class=\"dataframe\">\n",
              "  <thead>\n",
              "    <tr style=\"text-align: right;\">\n",
              "      <th></th>\n",
              "      <th>F1 Score(severe_toxic)</th>\n",
              "    </tr>\n",
              "  </thead>\n",
              "  <tbody>\n",
              "    <tr>\n",
              "      <th>Log Regression</th>\n",
              "      <td>0.927879</td>\n",
              "    </tr>\n",
              "    <tr>\n",
              "      <th>KNN</th>\n",
              "      <td>0.857416</td>\n",
              "    </tr>\n",
              "    <tr>\n",
              "      <th>BernoulliNB</th>\n",
              "      <td>0.803707</td>\n",
              "    </tr>\n",
              "    <tr>\n",
              "      <th>MultinomialNB</th>\n",
              "      <td>0.936170</td>\n",
              "    </tr>\n",
              "    <tr>\n",
              "      <th>SVM</th>\n",
              "      <td>0.926004</td>\n",
              "    </tr>\n",
              "    <tr>\n",
              "      <th>Random Forest</th>\n",
              "      <td>0.934874</td>\n",
              "    </tr>\n",
              "  </tbody>\n",
              "</table>\n",
              "</div>"
            ],
            "text/plain": [
              "                F1 Score(severe_toxic)\n",
              "Log Regression                0.927879\n",
              "KNN                           0.857416\n",
              "BernoulliNB                   0.803707\n",
              "MultinomialNB                 0.936170\n",
              "SVM                           0.926004\n",
              "Random Forest                 0.934874"
            ]
          },
          "metadata": {
            "tags": []
          },
          "execution_count": 129
        }
      ]
    },
    {
      "cell_type": "code",
      "metadata": {
        "colab": {
          "base_uri": "https://localhost:8080/",
          "height": 319
        },
        "id": "wBShkEu3ja_j",
        "outputId": "9f9da8b9-9367-463a-c630-76e5c6cebf58"
      },
      "source": [
        "\n",
        "t0 = time.time()\n",
        "\n",
        "df_obs_cv = cv_tf_train_test(data_obs_done, 'obscene', TfidfVectorizer, (1,1))\n",
        "df_obs_cv.rename(columns={'F1 Score': 'F1 Score(obscene)'}, inplace=True)\n",
        "\n",
        "t1 = time.time()\n",
        "\n",
        "total = 'Time taken: {} seconds'.format(t1-t0)\n",
        "print(total)\n",
        "\n",
        "df_obs_cv"
      ],
      "execution_count": 130,
      "outputs": [
        {
          "output_type": "stream",
          "text": [
            "lr done\n",
            "bnb done\n",
            "mnb done\n",
            "rdf done\n",
            "Time taken: 9.109896659851074 seconds\n"
          ],
          "name": "stdout"
        },
        {
          "output_type": "execute_result",
          "data": {
            "text/html": [
              "<div>\n",
              "<style scoped>\n",
              "    .dataframe tbody tr th:only-of-type {\n",
              "        vertical-align: middle;\n",
              "    }\n",
              "\n",
              "    .dataframe tbody tr th {\n",
              "        vertical-align: top;\n",
              "    }\n",
              "\n",
              "    .dataframe thead th {\n",
              "        text-align: right;\n",
              "    }\n",
              "</style>\n",
              "<table border=\"1\" class=\"dataframe\">\n",
              "  <thead>\n",
              "    <tr style=\"text-align: right;\">\n",
              "      <th></th>\n",
              "      <th>F1 Score(obscene)</th>\n",
              "    </tr>\n",
              "  </thead>\n",
              "  <tbody>\n",
              "    <tr>\n",
              "      <th>Log Regression</th>\n",
              "      <td>0.908655</td>\n",
              "    </tr>\n",
              "    <tr>\n",
              "      <th>KNN</th>\n",
              "      <td>0.519056</td>\n",
              "    </tr>\n",
              "    <tr>\n",
              "      <th>BernoulliNB</th>\n",
              "      <td>0.787830</td>\n",
              "    </tr>\n",
              "    <tr>\n",
              "      <th>MultinomialNB</th>\n",
              "      <td>0.901463</td>\n",
              "    </tr>\n",
              "    <tr>\n",
              "      <th>SVM</th>\n",
              "      <td>0.921378</td>\n",
              "    </tr>\n",
              "    <tr>\n",
              "      <th>Random Forest</th>\n",
              "      <td>0.909091</td>\n",
              "    </tr>\n",
              "  </tbody>\n",
              "</table>\n",
              "</div>"
            ],
            "text/plain": [
              "                F1 Score(obscene)\n",
              "Log Regression           0.908655\n",
              "KNN                      0.519056\n",
              "BernoulliNB              0.787830\n",
              "MultinomialNB            0.901463\n",
              "SVM                      0.921378\n",
              "Random Forest            0.909091"
            ]
          },
          "metadata": {
            "tags": []
          },
          "execution_count": 130
        }
      ]
    },
    {
      "cell_type": "code",
      "metadata": {
        "colab": {
          "base_uri": "https://localhost:8080/",
          "height": 319
        },
        "id": "hgK9OFNSja_j",
        "outputId": "8c4f897a-4385-4eb1-fe14-bece5390ab17"
      },
      "source": [
        "\n",
        "t0 = time.time()\n",
        "\n",
        "df_thr_cv = cv_tf_train_test(data_thr_done, 'threat', TfidfVectorizer, (1,1))\n",
        "df_thr_cv.rename(columns={'F1 Score': 'F1 Score(threat)'}, inplace=True)\n",
        "\n",
        "t1 = time.time()\n",
        "\n",
        "total = 'Time taken: {} seconds'.format(t1-t0)\n",
        "print(total)\n",
        "\n",
        "df_thr_cv"
      ],
      "execution_count": 131,
      "outputs": [
        {
          "output_type": "stream",
          "text": [
            "lr done\n",
            "bnb done\n",
            "mnb done\n",
            "rdf done\n",
            "Time taken: 1.2005681991577148 seconds\n"
          ],
          "name": "stdout"
        },
        {
          "output_type": "execute_result",
          "data": {
            "text/html": [
              "<div>\n",
              "<style scoped>\n",
              "    .dataframe tbody tr th:only-of-type {\n",
              "        vertical-align: middle;\n",
              "    }\n",
              "\n",
              "    .dataframe tbody tr th {\n",
              "        vertical-align: top;\n",
              "    }\n",
              "\n",
              "    .dataframe thead th {\n",
              "        text-align: right;\n",
              "    }\n",
              "</style>\n",
              "<table border=\"1\" class=\"dataframe\">\n",
              "  <thead>\n",
              "    <tr style=\"text-align: right;\">\n",
              "      <th></th>\n",
              "      <th>F1 Score(threat)</th>\n",
              "    </tr>\n",
              "  </thead>\n",
              "  <tbody>\n",
              "    <tr>\n",
              "      <th>Log Regression</th>\n",
              "      <td>0.628821</td>\n",
              "    </tr>\n",
              "    <tr>\n",
              "      <th>KNN</th>\n",
              "      <td>0.720000</td>\n",
              "    </tr>\n",
              "    <tr>\n",
              "      <th>BernoulliNB</th>\n",
              "      <td>0.311828</td>\n",
              "    </tr>\n",
              "    <tr>\n",
              "      <th>MultinomialNB</th>\n",
              "      <td>0.504762</td>\n",
              "    </tr>\n",
              "    <tr>\n",
              "      <th>SVM</th>\n",
              "      <td>0.786765</td>\n",
              "    </tr>\n",
              "    <tr>\n",
              "      <th>Random Forest</th>\n",
              "      <td>0.795539</td>\n",
              "    </tr>\n",
              "  </tbody>\n",
              "</table>\n",
              "</div>"
            ],
            "text/plain": [
              "                F1 Score(threat)\n",
              "Log Regression          0.628821\n",
              "KNN                     0.720000\n",
              "BernoulliNB             0.311828\n",
              "MultinomialNB           0.504762\n",
              "SVM                     0.786765\n",
              "Random Forest           0.795539"
            ]
          },
          "metadata": {
            "tags": []
          },
          "execution_count": 131
        }
      ]
    },
    {
      "cell_type": "code",
      "metadata": {
        "colab": {
          "base_uri": "https://localhost:8080/",
          "height": 319
        },
        "id": "HkAHTzwtja_k",
        "outputId": "96b0e004-44fe-42e8-d0e3-b03dac5841c5"
      },
      "source": [
        "\n",
        "t0 = time.time()\n",
        "\n",
        "df_ins_cv = cv_tf_train_test(data_ins_done, 'insult', TfidfVectorizer, (1,1))\n",
        "df_ins_cv.rename(columns={'F1 Score': 'F1 Score(insult)'}, inplace=True)\n",
        "\n",
        "t1 = time.time()\n",
        "\n",
        "total = 'Time taken: {} seconds'.format(t1-t0)\n",
        "print(total)\n",
        "\n",
        "df_ins_cv"
      ],
      "execution_count": 132,
      "outputs": [
        {
          "output_type": "stream",
          "text": [
            "lr done\n",
            "bnb done\n",
            "mnb done\n",
            "rdf done\n",
            "Time taken: 9.35407829284668 seconds\n"
          ],
          "name": "stdout"
        },
        {
          "output_type": "execute_result",
          "data": {
            "text/html": [
              "<div>\n",
              "<style scoped>\n",
              "    .dataframe tbody tr th:only-of-type {\n",
              "        vertical-align: middle;\n",
              "    }\n",
              "\n",
              "    .dataframe tbody tr th {\n",
              "        vertical-align: top;\n",
              "    }\n",
              "\n",
              "    .dataframe thead th {\n",
              "        text-align: right;\n",
              "    }\n",
              "</style>\n",
              "<table border=\"1\" class=\"dataframe\">\n",
              "  <thead>\n",
              "    <tr style=\"text-align: right;\">\n",
              "      <th></th>\n",
              "      <th>F1 Score(insult)</th>\n",
              "    </tr>\n",
              "  </thead>\n",
              "  <tbody>\n",
              "    <tr>\n",
              "      <th>Log Regression</th>\n",
              "      <td>0.896599</td>\n",
              "    </tr>\n",
              "    <tr>\n",
              "      <th>KNN</th>\n",
              "      <td>0.257992</td>\n",
              "    </tr>\n",
              "    <tr>\n",
              "      <th>BernoulliNB</th>\n",
              "      <td>0.783762</td>\n",
              "    </tr>\n",
              "    <tr>\n",
              "      <th>MultinomialNB</th>\n",
              "      <td>0.897411</td>\n",
              "    </tr>\n",
              "    <tr>\n",
              "      <th>SVM</th>\n",
              "      <td>0.902619</td>\n",
              "    </tr>\n",
              "    <tr>\n",
              "      <th>Random Forest</th>\n",
              "      <td>0.883993</td>\n",
              "    </tr>\n",
              "  </tbody>\n",
              "</table>\n",
              "</div>"
            ],
            "text/plain": [
              "                F1 Score(insult)\n",
              "Log Regression          0.896599\n",
              "KNN                     0.257992\n",
              "BernoulliNB             0.783762\n",
              "MultinomialNB           0.897411\n",
              "SVM                     0.902619\n",
              "Random Forest           0.883993"
            ]
          },
          "metadata": {
            "tags": []
          },
          "execution_count": 132
        }
      ]
    },
    {
      "cell_type": "code",
      "metadata": {
        "colab": {
          "base_uri": "https://localhost:8080/",
          "height": 319
        },
        "id": "04lfGpYhja_k",
        "outputId": "d8a69d43-39b2-493a-f0e8-bd01c4a46156"
      },
      "source": [
        "\n",
        "t0 = time.time()\n",
        "\n",
        "df_ide_cv = cv_tf_train_test(data_ide_done, 'identity_hate', TfidfVectorizer, (1,1))\n",
        "df_ide_cv.rename(columns={'F1 Score': 'F1 Score(identity_hate)'}, inplace=True)\n",
        "\n",
        "t1 = time.time()\n",
        "\n",
        "total = 'Time taken: {} seconds'.format(t1-t0)\n",
        "print(total)\n",
        "\n",
        "df_ide_cv"
      ],
      "execution_count": 133,
      "outputs": [
        {
          "output_type": "stream",
          "text": [
            "lr done\n",
            "bnb done\n",
            "mnb done\n",
            "rdf done\n",
            "Time taken: 5.1058189868927 seconds\n"
          ],
          "name": "stdout"
        },
        {
          "output_type": "execute_result",
          "data": {
            "text/html": [
              "<div>\n",
              "<style scoped>\n",
              "    .dataframe tbody tr th:only-of-type {\n",
              "        vertical-align: middle;\n",
              "    }\n",
              "\n",
              "    .dataframe tbody tr th {\n",
              "        vertical-align: top;\n",
              "    }\n",
              "\n",
              "    .dataframe thead th {\n",
              "        text-align: right;\n",
              "    }\n",
              "</style>\n",
              "<table border=\"1\" class=\"dataframe\">\n",
              "  <thead>\n",
              "    <tr style=\"text-align: right;\">\n",
              "      <th></th>\n",
              "      <th>F1 Score(identity_hate)</th>\n",
              "    </tr>\n",
              "  </thead>\n",
              "  <tbody>\n",
              "    <tr>\n",
              "      <th>Log Regression</th>\n",
              "      <td>0.699029</td>\n",
              "    </tr>\n",
              "    <tr>\n",
              "      <th>KNN</th>\n",
              "      <td>0.230159</td>\n",
              "    </tr>\n",
              "    <tr>\n",
              "      <th>BernoulliNB</th>\n",
              "      <td>0.549206</td>\n",
              "    </tr>\n",
              "    <tr>\n",
              "      <th>MultinomialNB</th>\n",
              "      <td>0.485857</td>\n",
              "    </tr>\n",
              "    <tr>\n",
              "      <th>SVM</th>\n",
              "      <td>0.797516</td>\n",
              "    </tr>\n",
              "    <tr>\n",
              "      <th>Random Forest</th>\n",
              "      <td>0.768448</td>\n",
              "    </tr>\n",
              "  </tbody>\n",
              "</table>\n",
              "</div>"
            ],
            "text/plain": [
              "                F1 Score(identity_hate)\n",
              "Log Regression                 0.699029\n",
              "KNN                            0.230159\n",
              "BernoulliNB                    0.549206\n",
              "MultinomialNB                  0.485857\n",
              "SVM                            0.797516\n",
              "Random Forest                  0.768448"
            ]
          },
          "metadata": {
            "tags": []
          },
          "execution_count": 133
        }
      ]
    },
    {
      "cell_type": "code",
      "metadata": {
        "colab": {
          "base_uri": "https://localhost:8080/",
          "height": 233
        },
        "id": "8XHTh1VMja_k",
        "outputId": "51d68c7b-3a27-44d3-c3f4-81b813cf825a"
      },
      "source": [
        "# Let's combine the dataframes into a master dataframe to compare F1 scores across all categories.\n",
        "f1_all = pd.concat([df_tox_cv, df_sev_cv, df_obs_cv, df_ins_cv, df_thr_cv, df_ide_cv], axis=1)\n",
        "f1_all\n"
      ],
      "execution_count": 134,
      "outputs": [
        {
          "output_type": "execute_result",
          "data": {
            "text/html": [
              "<div>\n",
              "<style scoped>\n",
              "    .dataframe tbody tr th:only-of-type {\n",
              "        vertical-align: middle;\n",
              "    }\n",
              "\n",
              "    .dataframe tbody tr th {\n",
              "        vertical-align: top;\n",
              "    }\n",
              "\n",
              "    .dataframe thead th {\n",
              "        text-align: right;\n",
              "    }\n",
              "</style>\n",
              "<table border=\"1\" class=\"dataframe\">\n",
              "  <thead>\n",
              "    <tr style=\"text-align: right;\">\n",
              "      <th></th>\n",
              "      <th>F1 Score(toxic)</th>\n",
              "      <th>F1 Score(severe_toxic)</th>\n",
              "      <th>F1 Score(obscene)</th>\n",
              "      <th>F1 Score(insult)</th>\n",
              "      <th>F1 Score(threat)</th>\n",
              "      <th>F1 Score(identity_hate)</th>\n",
              "    </tr>\n",
              "  </thead>\n",
              "  <tbody>\n",
              "    <tr>\n",
              "      <th>Log Regression</th>\n",
              "      <td>0.861234</td>\n",
              "      <td>0.927879</td>\n",
              "      <td>0.908655</td>\n",
              "      <td>0.896599</td>\n",
              "      <td>0.628821</td>\n",
              "      <td>0.699029</td>\n",
              "    </tr>\n",
              "    <tr>\n",
              "      <th>KNN</th>\n",
              "      <td>0.185120</td>\n",
              "      <td>0.857416</td>\n",
              "      <td>0.519056</td>\n",
              "      <td>0.257992</td>\n",
              "      <td>0.720000</td>\n",
              "      <td>0.230159</td>\n",
              "    </tr>\n",
              "    <tr>\n",
              "      <th>BernoulliNB</th>\n",
              "      <td>0.776521</td>\n",
              "      <td>0.803707</td>\n",
              "      <td>0.787830</td>\n",
              "      <td>0.783762</td>\n",
              "      <td>0.311828</td>\n",
              "      <td>0.549206</td>\n",
              "    </tr>\n",
              "    <tr>\n",
              "      <th>MultinomialNB</th>\n",
              "      <td>0.874958</td>\n",
              "      <td>0.936170</td>\n",
              "      <td>0.901463</td>\n",
              "      <td>0.897411</td>\n",
              "      <td>0.504762</td>\n",
              "      <td>0.485857</td>\n",
              "    </tr>\n",
              "    <tr>\n",
              "      <th>SVM</th>\n",
              "      <td>0.876133</td>\n",
              "      <td>0.926004</td>\n",
              "      <td>0.921378</td>\n",
              "      <td>0.902619</td>\n",
              "      <td>0.786765</td>\n",
              "      <td>0.797516</td>\n",
              "    </tr>\n",
              "    <tr>\n",
              "      <th>Random Forest</th>\n",
              "      <td>0.838055</td>\n",
              "      <td>0.934874</td>\n",
              "      <td>0.909091</td>\n",
              "      <td>0.883993</td>\n",
              "      <td>0.795539</td>\n",
              "      <td>0.768448</td>\n",
              "    </tr>\n",
              "  </tbody>\n",
              "</table>\n",
              "</div>"
            ],
            "text/plain": [
              "                F1 Score(toxic)  ...  F1 Score(identity_hate)\n",
              "Log Regression         0.861234  ...                 0.699029\n",
              "KNN                    0.185120  ...                 0.230159\n",
              "BernoulliNB            0.776521  ...                 0.549206\n",
              "MultinomialNB          0.874958  ...                 0.485857\n",
              "SVM                    0.876133  ...                 0.797516\n",
              "Random Forest          0.838055  ...                 0.768448\n",
              "\n",
              "[6 rows x 6 columns]"
            ]
          },
          "metadata": {
            "tags": []
          },
          "execution_count": 134
        }
      ]
    },
    {
      "cell_type": "markdown",
      "metadata": {
        "id": "HULn46Alja_k"
      },
      "source": [
        "### Transpose the combined F1 dataframe to make it suitable for presentation on a graph"
      ]
    },
    {
      "cell_type": "code",
      "metadata": {
        "colab": {
          "base_uri": "https://localhost:8080/",
          "height": 233
        },
        "id": "-EL-IN3Ija_k",
        "outputId": "14227176-ac2f-4eb7-b68b-faff99106ace"
      },
      "source": [
        "f1_all_trp = f1_all.transpose()\n",
        "f1_all_trp"
      ],
      "execution_count": 135,
      "outputs": [
        {
          "output_type": "execute_result",
          "data": {
            "text/html": [
              "<div>\n",
              "<style scoped>\n",
              "    .dataframe tbody tr th:only-of-type {\n",
              "        vertical-align: middle;\n",
              "    }\n",
              "\n",
              "    .dataframe tbody tr th {\n",
              "        vertical-align: top;\n",
              "    }\n",
              "\n",
              "    .dataframe thead th {\n",
              "        text-align: right;\n",
              "    }\n",
              "</style>\n",
              "<table border=\"1\" class=\"dataframe\">\n",
              "  <thead>\n",
              "    <tr style=\"text-align: right;\">\n",
              "      <th></th>\n",
              "      <th>Log Regression</th>\n",
              "      <th>KNN</th>\n",
              "      <th>BernoulliNB</th>\n",
              "      <th>MultinomialNB</th>\n",
              "      <th>SVM</th>\n",
              "      <th>Random Forest</th>\n",
              "    </tr>\n",
              "  </thead>\n",
              "  <tbody>\n",
              "    <tr>\n",
              "      <th>F1 Score(toxic)</th>\n",
              "      <td>0.861234</td>\n",
              "      <td>0.185120</td>\n",
              "      <td>0.776521</td>\n",
              "      <td>0.874958</td>\n",
              "      <td>0.876133</td>\n",
              "      <td>0.838055</td>\n",
              "    </tr>\n",
              "    <tr>\n",
              "      <th>F1 Score(severe_toxic)</th>\n",
              "      <td>0.927879</td>\n",
              "      <td>0.857416</td>\n",
              "      <td>0.803707</td>\n",
              "      <td>0.936170</td>\n",
              "      <td>0.926004</td>\n",
              "      <td>0.934874</td>\n",
              "    </tr>\n",
              "    <tr>\n",
              "      <th>F1 Score(obscene)</th>\n",
              "      <td>0.908655</td>\n",
              "      <td>0.519056</td>\n",
              "      <td>0.787830</td>\n",
              "      <td>0.901463</td>\n",
              "      <td>0.921378</td>\n",
              "      <td>0.909091</td>\n",
              "    </tr>\n",
              "    <tr>\n",
              "      <th>F1 Score(insult)</th>\n",
              "      <td>0.896599</td>\n",
              "      <td>0.257992</td>\n",
              "      <td>0.783762</td>\n",
              "      <td>0.897411</td>\n",
              "      <td>0.902619</td>\n",
              "      <td>0.883993</td>\n",
              "    </tr>\n",
              "    <tr>\n",
              "      <th>F1 Score(threat)</th>\n",
              "      <td>0.628821</td>\n",
              "      <td>0.720000</td>\n",
              "      <td>0.311828</td>\n",
              "      <td>0.504762</td>\n",
              "      <td>0.786765</td>\n",
              "      <td>0.795539</td>\n",
              "    </tr>\n",
              "    <tr>\n",
              "      <th>F1 Score(identity_hate)</th>\n",
              "      <td>0.699029</td>\n",
              "      <td>0.230159</td>\n",
              "      <td>0.549206</td>\n",
              "      <td>0.485857</td>\n",
              "      <td>0.797516</td>\n",
              "      <td>0.768448</td>\n",
              "    </tr>\n",
              "  </tbody>\n",
              "</table>\n",
              "</div>"
            ],
            "text/plain": [
              "                         Log Regression       KNN  ...       SVM  Random Forest\n",
              "F1 Score(toxic)                0.861234  0.185120  ...  0.876133       0.838055\n",
              "F1 Score(severe_toxic)         0.927879  0.857416  ...  0.926004       0.934874\n",
              "F1 Score(obscene)              0.908655  0.519056  ...  0.921378       0.909091\n",
              "F1 Score(insult)               0.896599  0.257992  ...  0.902619       0.883993\n",
              "F1 Score(threat)               0.628821  0.720000  ...  0.786765       0.795539\n",
              "F1 Score(identity_hate)        0.699029  0.230159  ...  0.797516       0.768448\n",
              "\n",
              "[6 rows x 6 columns]"
            ]
          },
          "metadata": {
            "tags": []
          },
          "execution_count": 135
        }
      ]
    },
    {
      "cell_type": "code",
      "metadata": {
        "colab": {
          "base_uri": "https://localhost:8080/",
          "height": 457
        },
        "id": "-OqdbZf2ja_k",
        "outputId": "8783c978-70ac-426a-b685-d10e7ac288d8"
      },
      "source": [
        "sns.lineplot(data=f1_all_trp, markers=True) # size=[10,10],\n",
        "plt.xticks(rotation='90', fontsize=14)\n",
        "plt.yticks(fontsize=14)\n",
        "plt.legend(loc='best')\n",
        "plt.title('F1 Score of ML models (TF-IDF)', fontsize=20)\n",
        "\n",
        "# Repeat this for CountVectorizer as well"
      ],
      "execution_count": 136,
      "outputs": [
        {
          "output_type": "execute_result",
          "data": {
            "text/plain": [
              "Text(0.5, 1.0, 'F1 Score of ML models (TF-IDF)')"
            ]
          },
          "metadata": {
            "tags": []
          },
          "execution_count": 136
        },
        {
          "output_type": "display_data",
          "data": {
            "image/png": "[encoded data removed]",
            "text/plain": [
              "<Figure size 432x288 with 1 Axes>"
            ]
          },
          "metadata": {
            "tags": [],
            "needs_background": "light"
          }
        }
      ]
    },
    {
      "cell_type": "markdown",
      "metadata": {
        "id": "Q1GTs9amja_l"
      },
      "source": [
        "LinearSVC and Random Forest models perform best (purple and brown lines seem to be the highest)."
      ]
    },
    {
      "cell_type": "markdown",
      "metadata": {
        "id": "nthU1WrWja_l"
      },
      "source": [
        "### Test if our code actually works. Probability of the comment falling in various categories should be output."
      ]
    },
    {
      "cell_type": "code",
      "metadata": {
        "colab": {
          "base_uri": "https://localhost:8080/",
          "height": 202
        },
        "id": "UKfdmJpJja_l",
        "outputId": "60cb8501-f9b8-4a00-afd0-1e44e0aac54b"
      },
      "source": [
        "data_tox_done.head()"
      ],
      "execution_count": 137,
      "outputs": [
        {
          "output_type": "execute_result",
          "data": {
            "text/html": [
              "<div>\n",
              "<style scoped>\n",
              "    .dataframe tbody tr th:only-of-type {\n",
              "        vertical-align: middle;\n",
              "    }\n",
              "\n",
              "    .dataframe tbody tr th {\n",
              "        vertical-align: top;\n",
              "    }\n",
              "\n",
              "    .dataframe thead th {\n",
              "        text-align: right;\n",
              "    }\n",
              "</style>\n",
              "<table border=\"1\" class=\"dataframe\">\n",
              "  <thead>\n",
              "    <tr style=\"text-align: right;\">\n",
              "      <th></th>\n",
              "      <th>id</th>\n",
              "      <th>comment_text</th>\n",
              "      <th>toxic</th>\n",
              "    </tr>\n",
              "  </thead>\n",
              "  <tbody>\n",
              "    <tr>\n",
              "      <th>6</th>\n",
              "      <td>0002bcb3da6cb337</td>\n",
              "      <td>cocksucker before you piss around on my work</td>\n",
              "      <td>1</td>\n",
              "    </tr>\n",
              "    <tr>\n",
              "      <th>12</th>\n",
              "      <td>0005c987bdfc9d4b</td>\n",
              "      <td>hey    what is it  \\r     talk  \\r what is it ...</td>\n",
              "      <td>1</td>\n",
              "    </tr>\n",
              "    <tr>\n",
              "      <th>16</th>\n",
              "      <td>0007e25b2121310b</td>\n",
              "      <td>bye  \\r \\r don t look  come or think of commin...</td>\n",
              "      <td>1</td>\n",
              "    </tr>\n",
              "    <tr>\n",
              "      <th>42</th>\n",
              "      <td>001810bf8c45bf5f</td>\n",
              "      <td>you are gay or antisemmitian  \\r \\r archangel ...</td>\n",
              "      <td>1</td>\n",
              "    </tr>\n",
              "    <tr>\n",
              "      <th>43</th>\n",
              "      <td>00190820581d90ce</td>\n",
              "      <td>fuck your filthy mother in the ass  dry</td>\n",
              "      <td>1</td>\n",
              "    </tr>\n",
              "  </tbody>\n",
              "</table>\n",
              "</div>"
            ],
            "text/plain": [
              "                  id                                       comment_text  toxic\n",
              "6   0002bcb3da6cb337       cocksucker before you piss around on my work      1\n",
              "12  0005c987bdfc9d4b  hey    what is it  \\r     talk  \\r what is it ...      1\n",
              "16  0007e25b2121310b  bye  \\r \\r don t look  come or think of commin...      1\n",
              "42  001810bf8c45bf5f  you are gay or antisemmitian  \\r \\r archangel ...      1\n",
              "43  00190820581d90ce           fuck your filthy mother in the ass  dry       1"
            ]
          },
          "metadata": {
            "tags": []
          },
          "execution_count": 137
        }
      ]
    },
    {
      "cell_type": "code",
      "metadata": {
        "colab": {
          "base_uri": "https://localhost:8080/"
        },
        "id": "m30yQddsja_l",
        "outputId": "ebf35c98-5ce8-4e22-ffb2-38c479f2011f"
      },
      "source": [
        "X = data_tox_done.comment_text\n",
        "y = data_tox_done['toxic']\n",
        "\n",
        "X_train, X_test, y_train, y_test = train_test_split(X, y, test_size=0.3, random_state=42)\n",
        "\n",
        "# Initiate a Tfidf vectorizer\n",
        "tfv = TfidfVectorizer(ngram_range=(1,1), stop_words='english')\n",
        "\n",
        "X_train_fit = tfv.fit_transform(X_train)  # Convert the X data into a document term matrix dataframe\n",
        "X_test_fit = tfv.transform(X_test)  # Converts the X_test comments into Vectorized format\n",
        "\n",
        "randomforest = RandomForestClassifier(n_estimators=100, random_state=42)\n",
        "\n",
        "# Train our SVM model with the X training data converted into Count Vectorized format with the Y training data\n",
        "randomforest.fit(X_train_fit, y_train)\n",
        "randomforest.predict(X_test_fit)\n",
        "\n"
      ],
      "execution_count": 138,
      "outputs": [
        {
          "output_type": "execute_result",
          "data": {
            "text/plain": [
              "array([0, 1, 1, ..., 1, 1, 1])"
            ]
          },
          "metadata": {
            "tags": []
          },
          "execution_count": 138
        }
      ]
    },
    {
      "cell_type": "code",
      "metadata": {
        "colab": {
          "base_uri": "https://localhost:8080/"
        },
        "id": "Ltx8JjHgja_l",
        "outputId": "499881d7-e30b-4985-f776-6696db7c2834"
      },
      "source": [
        "# Sample Prediction\n",
        "comment1 = ['You piece of shit']\n",
        "comment2 = ['This apple is very tasty']\n",
        "\n",
        "comment1_vect = tfv.transform(comment1)\n",
        "randomforest.predict_proba(comment1_vect)[:,1]"
      ],
      "execution_count": 139,
      "outputs": [
        {
          "output_type": "execute_result",
          "data": {
            "text/plain": [
              "array([1.])"
            ]
          },
          "metadata": {
            "tags": []
          },
          "execution_count": 139
        }
      ]
    },
    {
      "cell_type": "code",
      "metadata": {
        "colab": {
          "base_uri": "https://localhost:8080/"
        },
        "id": "UtV481Kxja_l",
        "outputId": "866c2aff-43bd-4bdd-b122-3b78f34d1fc6"
      },
      "source": [
        "comment2_vect = tfv.transform(comment2)\n",
        "randomforest.predict_proba(comment2_vect)[:,1]"
      ],
      "execution_count": 140,
      "outputs": [
        {
          "output_type": "execute_result",
          "data": {
            "text/plain": [
              "array([0.16036935])"
            ]
          },
          "metadata": {
            "tags": []
          },
          "execution_count": 140
        }
      ]
    },
    {
      "cell_type": "markdown",
      "metadata": {
        "id": "gJJxxOugja_l"
      },
      "source": [
        "Random forest has assigned a probability of 1 that comment 1 ('you piece of shit') is toxic. Comment 2 has only a low toxicity probability of 0.16."
      ]
    },
    {
      "cell_type": "markdown",
      "metadata": {
        "id": "ik4y4lxTja_m"
      },
      "source": [
        "## Pickling trained RandomForest models for all categories. \n",
        "\n",
        "#### We choose Random Forest instead of LinearSVC although the latter performs well, as RDF has predict_proba function and LinearSVC does not. We need to output a probability score for each comment, remember?"
      ]
    },
    {
      "cell_type": "code",
      "metadata": {
        "id": "FNcI5tRDja_m"
      },
      "source": [
        "import pickle"
      ],
      "execution_count": 141,
      "outputs": []
    },
    {
      "cell_type": "markdown",
      "metadata": {
        "id": "2rcvS5MCja_m"
      },
      "source": [
        "### We have to pickle not only the TF-IDF vectorizer object, but also the RDF model trained on the related vectorizer."
      ]
    },
    {
      "cell_type": "code",
      "metadata": {
        "id": "JPzxAYx7ja_m"
      },
      "source": [
        "'''\n",
        "NOTE: This step has already been done for you. The pickled files are included in the github. Just for further reference.\n",
        "You do NOT have to run this cell.\n",
        "'''\n",
        "\n",
        "def pickle_model(df, label):\n",
        "    \n",
        "    X = df.comment_text\n",
        "    y = df[label]\n",
        "\n",
        "    # Initiate a Tfidf vectorizer\n",
        "    tfv = TfidfVectorizer(ngram_range=(1,1), stop_words='english')\n",
        "    \n",
        "    # Convert the X data into a document term matrix dataframe\n",
        "    X_vect = tfv.fit_transform(X)  \n",
        "    \n",
        "    # saves the column labels (ie. the vocabulary)\n",
        "    # wb means Writing to the file in Binary mode, written in byte objects\n",
        "    with open(r\"{}.pkl\".format(label + '_vect'), \"wb\") as f:   \n",
        "        pickle.dump(tfv, f)   \n",
        "        \n",
        "    randomforest = RandomForestClassifier(n_estimators=100, random_state=42)\n",
        "    randomforest.fit(X_vect, y)\n",
        "\n",
        "    # Create a new pickle file based on random forest\n",
        "    with open(r\"{}.pkl\".format(label + '_model'), \"wb\") as f:  \n",
        "        pickle.dump(randomforest, f)\n",
        "        "
      ],
      "execution_count": 142,
      "outputs": []
    },
    {
      "cell_type": "markdown",
      "metadata": {
        "id": "ZzHHmARBja_m"
      },
      "source": [
        "### Create a loop to create pickle files all at one shot"
      ]
    },
    {
      "cell_type": "code",
      "metadata": {
        "id": "iUm1vWAzja_m"
      },
      "source": [
        "'''\n",
        "OPTIONAL STEP. Pickled file already available on Github.\n",
        "'''\n",
        "\n",
        "datalist = [data_tox_done, data_sev_done, data_obs_done, data_ins_done, data_thr_done, data_ide_done]\n",
        "label = ['toxic', 'severe_toxic', 'obscene', 'insult', 'threat', 'identity_hate']\n",
        "\n",
        "for i,j in zip(datalist,label):\n",
        "    pickle_model(i, j)\n",
        "    \n"
      ],
      "execution_count": 143,
      "outputs": []
    }
  ]
}